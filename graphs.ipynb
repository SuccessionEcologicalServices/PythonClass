{
 "cells": [
  {
   "cell_type": "code",
   "execution_count": 1,
   "metadata": {
    "collapsed": true
   },
   "outputs": [],
   "source": [
    "# WELCOME TO THE ALGORITHMS CLASS~~~"
   ]
  },
  {
   "cell_type": "code",
   "execution_count": 2,
   "metadata": {
    "collapsed": true
   },
   "outputs": [],
   "source": [
    "numbers = [1, 2, 3, 1]"
   ]
  },
  {
   "cell_type": "code",
   "execution_count": 3,
   "metadata": {},
   "outputs": [
    {
     "data": {
      "text/plain": [
       "1"
      ]
     },
     "execution_count": 3,
     "metadata": {},
     "output_type": "execute_result"
    }
   ],
   "source": [
    "numbers[0]"
   ]
  },
  {
   "cell_type": "code",
   "execution_count": 4,
   "metadata": {},
   "outputs": [
    {
     "ename": "IndexError",
     "evalue": "list index out of range",
     "output_type": "error",
     "traceback": [
      "\u001b[0;31m---------------------------------------------------------------------------\u001b[0m",
      "\u001b[0;31mIndexError\u001b[0m                                Traceback (most recent call last)",
      "\u001b[0;32m<ipython-input-4-c6a53c9e4685>\u001b[0m in \u001b[0;36m<module>\u001b[0;34m()\u001b[0m\n\u001b[0;32m----> 1\u001b[0;31m \u001b[0mnumbers\u001b[0m\u001b[0;34m[\u001b[0m\u001b[0;36m100\u001b[0m\u001b[0;34m]\u001b[0m\u001b[0;34m\u001b[0m\u001b[0m\n\u001b[0m",
      "\u001b[0;31mIndexError\u001b[0m: list index out of range"
     ]
    }
   ],
   "source": [
    "numbers[100]"
   ]
  },
  {
   "cell_type": "code",
   "execution_count": 5,
   "metadata": {
    "collapsed": true
   },
   "outputs": [],
   "source": [
    "fruits = {'apple', 'banana'}"
   ]
  },
  {
   "cell_type": "code",
   "execution_count": 7,
   "metadata": {},
   "outputs": [
    {
     "data": {
      "text/plain": [
       "True"
      ]
     },
     "execution_count": 7,
     "metadata": {},
     "output_type": "execute_result"
    }
   ],
   "source": [
    "'apple' in fruits"
   ]
  },
  {
   "cell_type": "code",
   "execution_count": 9,
   "metadata": {},
   "outputs": [],
   "source": [
    "numbers = [1]"
   ]
  },
  {
   "cell_type": "code",
   "execution_count": 10,
   "metadata": {},
   "outputs": [
    {
     "data": {
      "text/plain": [
       "True"
      ]
     },
     "execution_count": 10,
     "metadata": {},
     "output_type": "execute_result"
    }
   ],
   "source": [
    "# is_sorted(numbers) => False\n",
    "def is_sorted(l):\n",
    "    max_index = len(l) - 1\n",
    "    for index in range(max_index):\n",
    "        if l[index] > l[index + 1]:\n",
    "            return False\n",
    "    return True\n",
    "\n",
    "is_sorted([1])"
   ]
  },
  {
   "cell_type": "code",
   "execution_count": 19,
   "metadata": {},
   "outputs": [],
   "source": [
    "import copy\n",
    "\n",
    "def bubble_sort(A):\n",
    "    \"\"\"Challenge: make it not mutate A\"\"\"\n",
    "    c = copy.copy(A)\n",
    "    \n",
    "    n = len(A)\n",
    "    \n",
    "    while True:\n",
    "        swapped = False\n",
    "        \n",
    "        for i in range(1, n):\n",
    "            if c[i - 1] > c[i]:\n",
    "                c[i - 1], c[i] = c[i], c[i - 1]\n",
    "                swapped = True\n",
    "\n",
    "        if not swapped:\n",
    "            break"
   ]
  },
  {
   "cell_type": "code",
   "execution_count": null,
   "metadata": {
    "collapsed": true
   },
   "outputs": [],
   "source": [
    "https://github.com/razzius/PyClassLessons\n",
    "or https://github.com/razzius/PyClassLessons/blob/master/course/pyclass-2017-10-15-algorithms.md"
   ]
  },
  {
   "cell_type": "code",
   "execution_count": 23,
   "metadata": {},
   "outputs": [
    {
     "data": {
      "text/plain": [
       "[1, 2, 3]"
      ]
     },
     "execution_count": 23,
     "metadata": {},
     "output_type": "execute_result"
    }
   ],
   "source": [
    "numbers = [3, 2, 1]\n",
    "bubble_sort(numbers)\n",
    "numbers"
   ]
  },
  {
   "cell_type": "code",
   "execution_count": 50,
   "metadata": {},
   "outputs": [],
   "source": [
    "graph = {\n",
    "    'return': {'wash', 'dry'},\n",
    "    'wash': {'detergent'},\n",
    "    'detergent': {'dry'},  # Note that {} would be an empty dict, not a set\n",
    "    'dry': {'wash'}\n",
    "}"
   ]
  },
  {
   "cell_type": "code",
   "execution_count": 42,
   "metadata": {
    "collapsed": true
   },
   "outputs": [],
   "source": [
    "# goal: ['detergent', 'wash', 'dry', 'return']\n",
    "import copy\n",
    "def toposort(g):\n",
    "    g = copy.deepcopy(g)\n",
    "    l = []\n",
    "    s = {n for n in g if not g[n]}\n",
    "    while s:\n",
    "        n = s.pop()\n",
    "        l.append(n)\n",
    "        for m in {m for m in g if n in g[m]}:\n",
    "            g[m].remove(n)\n",
    "            \n",
    "            if not g[m]:\n",
    "                s.add(m)\n",
    "    if any(g.values()):\n",
    "        raise ValueError('no solution')\n",
    "    else:\n",
    "        return l"
   ]
  },
  {
   "cell_type": "code",
   "execution_count": 34,
   "metadata": {},
   "outputs": [
    {
     "data": {
      "text/plain": [
       "{'detergent': set(),\n",
       " 'dry': {'wash'},\n",
       " 'return': {'dry', 'wash'},\n",
       " 'wash': {'detergent'}}"
      ]
     },
     "execution_count": 34,
     "metadata": {},
     "output_type": "execute_result"
    }
   ],
   "source": [
    "graph"
   ]
  },
  {
   "cell_type": "code",
   "execution_count": 51,
   "metadata": {},
   "outputs": [
    {
     "ename": "ValueError",
     "evalue": "no solution",
     "output_type": "error",
     "traceback": [
      "\u001b[0;31m---------------------------------------------------------------------------\u001b[0m",
      "\u001b[0;31mValueError\u001b[0m                                Traceback (most recent call last)",
      "\u001b[0;32m<ipython-input-51-4ff4b327155d>\u001b[0m in \u001b[0;36m<module>\u001b[0;34m()\u001b[0m\n\u001b[0;32m----> 1\u001b[0;31m \u001b[0mtoposort\u001b[0m\u001b[0;34m(\u001b[0m\u001b[0mgraph\u001b[0m\u001b[0;34m)\u001b[0m\u001b[0;34m\u001b[0m\u001b[0m\n\u001b[0m",
      "\u001b[0;32m<ipython-input-42-aea08b5efd2f>\u001b[0m in \u001b[0;36mtoposort\u001b[0;34m(g)\u001b[0m\n\u001b[1;32m     14\u001b[0m                 \u001b[0ms\u001b[0m\u001b[0;34m.\u001b[0m\u001b[0madd\u001b[0m\u001b[0;34m(\u001b[0m\u001b[0mm\u001b[0m\u001b[0;34m)\u001b[0m\u001b[0;34m\u001b[0m\u001b[0m\n\u001b[1;32m     15\u001b[0m     \u001b[0;32mif\u001b[0m \u001b[0many\u001b[0m\u001b[0;34m(\u001b[0m\u001b[0mg\u001b[0m\u001b[0;34m.\u001b[0m\u001b[0mvalues\u001b[0m\u001b[0;34m(\u001b[0m\u001b[0;34m)\u001b[0m\u001b[0;34m)\u001b[0m\u001b[0;34m:\u001b[0m\u001b[0;34m\u001b[0m\u001b[0m\n\u001b[0;32m---> 16\u001b[0;31m         \u001b[0;32mraise\u001b[0m \u001b[0mValueError\u001b[0m\u001b[0;34m(\u001b[0m\u001b[0;34m'no solution'\u001b[0m\u001b[0;34m)\u001b[0m\u001b[0;34m\u001b[0m\u001b[0m\n\u001b[0m\u001b[1;32m     17\u001b[0m     \u001b[0;32melse\u001b[0m\u001b[0;34m:\u001b[0m\u001b[0;34m\u001b[0m\u001b[0m\n\u001b[1;32m     18\u001b[0m         \u001b[0;32mreturn\u001b[0m \u001b[0ml\u001b[0m\u001b[0;34m\u001b[0m\u001b[0m\n",
      "\u001b[0;31mValueError\u001b[0m: no solution"
     ]
    }
   ],
   "source": [
    "toposort(graph)"
   ]
  },
  {
   "cell_type": "code",
   "execution_count": 45,
   "metadata": {},
   "outputs": [
    {
     "data": {
      "text/plain": [
       "{'detergent': set(),\n",
       " 'dry': {'wash'},\n",
       " 'return': {'dry', 'wash'},\n",
       " 'wash': {'detergent'}}"
      ]
     },
     "execution_count": 45,
     "metadata": {},
     "output_type": "execute_result"
    }
   ],
   "source": [
    "graph"
   ]
  },
  {
   "cell_type": "code",
   "execution_count": 46,
   "metadata": {
    "collapsed": true
   },
   "outputs": [],
   "source": [
    "circular = {\n",
    "    'a': {'a'}\n",
    "}"
   ]
  },
  {
   "cell_type": "code",
   "execution_count": 47,
   "metadata": {},
   "outputs": [
    {
     "ename": "ValueError",
     "evalue": "no solution",
     "output_type": "error",
     "traceback": [
      "\u001b[0;31m---------------------------------------------------------------------------\u001b[0m",
      "\u001b[0;31mValueError\u001b[0m                                Traceback (most recent call last)",
      "\u001b[0;32m<ipython-input-47-2cdcd8557840>\u001b[0m in \u001b[0;36m<module>\u001b[0;34m()\u001b[0m\n\u001b[0;32m----> 1\u001b[0;31m \u001b[0mtoposort\u001b[0m\u001b[0;34m(\u001b[0m\u001b[0mcircular\u001b[0m\u001b[0;34m)\u001b[0m\u001b[0;34m\u001b[0m\u001b[0m\n\u001b[0m",
      "\u001b[0;32m<ipython-input-42-aea08b5efd2f>\u001b[0m in \u001b[0;36mtoposort\u001b[0;34m(g)\u001b[0m\n\u001b[1;32m     14\u001b[0m                 \u001b[0ms\u001b[0m\u001b[0;34m.\u001b[0m\u001b[0madd\u001b[0m\u001b[0;34m(\u001b[0m\u001b[0mm\u001b[0m\u001b[0;34m)\u001b[0m\u001b[0;34m\u001b[0m\u001b[0m\n\u001b[1;32m     15\u001b[0m     \u001b[0;32mif\u001b[0m \u001b[0many\u001b[0m\u001b[0;34m(\u001b[0m\u001b[0mg\u001b[0m\u001b[0;34m.\u001b[0m\u001b[0mvalues\u001b[0m\u001b[0;34m(\u001b[0m\u001b[0;34m)\u001b[0m\u001b[0;34m)\u001b[0m\u001b[0;34m:\u001b[0m\u001b[0;34m\u001b[0m\u001b[0m\n\u001b[0;32m---> 16\u001b[0;31m         \u001b[0;32mraise\u001b[0m \u001b[0mValueError\u001b[0m\u001b[0;34m(\u001b[0m\u001b[0;34m'no solution'\u001b[0m\u001b[0;34m)\u001b[0m\u001b[0;34m\u001b[0m\u001b[0m\n\u001b[0m\u001b[1;32m     17\u001b[0m     \u001b[0;32melse\u001b[0m\u001b[0;34m:\u001b[0m\u001b[0;34m\u001b[0m\u001b[0m\n\u001b[1;32m     18\u001b[0m         \u001b[0;32mreturn\u001b[0m \u001b[0ml\u001b[0m\u001b[0;34m\u001b[0m\u001b[0m\n",
      "\u001b[0;31mValueError\u001b[0m: no solution"
     ]
    }
   ],
   "source": [
    "toposort(circular)"
   ]
  },
  {
   "cell_type": "code",
   "execution_count": 49,
   "metadata": {},
   "outputs": [
    {
     "data": {
      "text/plain": [
       "True"
      ]
     },
     "execution_count": 49,
     "metadata": {},
     "output_type": "execute_result"
    }
   ],
   "source": [
    "any(circular.values())"
   ]
  },
  {
   "cell_type": "code",
   "execution_count": 61,
   "metadata": {
    "collapsed": true
   },
   "outputs": [],
   "source": [
    "states_text=\"\"\"Alabama\tFlorida, Georgia, Mississippi, Tennessee\n",
    "Alaska\tNone\n",
    "Arizona\tCalifornia, Colorado, Nevada, New Mexico, Utah\n",
    "Arkansas\tLouisiana, Mississippi, Missouri, Oklahoma, Tennessee, Texas\n",
    "California\tArizona, Nevada, Oregon\n",
    "Colorado\tArizona, Kansas, Nebraska, New Mexico, Oklahoma, Utah, Wyoming\n",
    "Connecticut\tMassachusetts, New York, Rhode Island\n",
    "Delaware\tMaryland, New Jersey, Pennsylvania\n",
    "Florida\tAlabama, Georgia\n",
    "Georgia\tAlabama, Florida, North Carolina, South Carolina, Tennessee\n",
    "Hawaii\tNone\n",
    "Idaho\tMontana, Nevada, Oregon, Utah, Washington, Wyoming\n",
    "Illinois\tIndiana, Iowa, Michigan, Kentucky, Missouri, Wisconsin\n",
    "Indiana\tIllinois, Kentucky, Michigan, Ohio\n",
    "Iowa\tIllinois, Minnesota, Missouri, Nebraska, South Dakota, Wisconsin\n",
    "Kansas\tColorado, Missouri, Nebraska, Oklahoma\n",
    "Kentucky\tIllinois, Indiana, Missouri, Ohio, Tennessee, Virginia, West Virginia\n",
    "Louisiana\tArkansas, Mississippi, Texas\n",
    "Maine\tNew Hampshire\n",
    "Maryland\tDelaware, Pennsylvania, Virginia, West Virginia\n",
    "Massachusetts\tConnecticut, New Hampshire, New York, Rhode Island, Vermont\n",
    "Michigan\tIllinois, Indiana, Minnesota (water border), Ohio, Wisconsin\n",
    "Minnesota\tIowa, Michigan (water border), North Dakota, South Dakota, Wisconsin\n",
    "Mississippi\tAlabama, Arkansas, Louisiana, Tennessee\n",
    "Missouri\tArkansas, Illinois, Iowa, Kansas, Kentucky, Nebraska, Oklahoma, Tennessee\n",
    "Montana\tIdaho, North Dakota, South Dakota, Wyoming\n",
    "Nebraska\tColorado, Iowa, Kansas, Missouri, South Dakota, Wyoming\n",
    "Nevada\tArizona, California, Idaho, Oregon, Utah\n",
    "New Hampshire\tMaine, Massachusetts, Vermont\n",
    "New Jersey\tDelaware, New York, Pennsylvania\n",
    "New Mexico\tArizona, Colorado, Oklahoma, Texas, Utah\n",
    "New York\tConnecticut, Massachusetts, New Jersey, Pennsylvania, Rhode Island (water border), Vermont\n",
    "North Carolina\tGeorgia, South Carolina, Tennessee, Virginia\n",
    "North Dakota\tMinnesota, Montana, South Dakota\n",
    "Ohio\tIndiana, Kentucky, Michigan, Pennsylvania, West Virginia\n",
    "Oklahoma\tArkansas, Colorado, Kansas, Missouri, New Mexico, Texas\n",
    "Oregon\tCalifornia, Idaho, Nevada, Washington\n",
    "Pennsylvania\tDelaware, Maryland, New Jersey, New York, Ohio, West Virginia\n",
    "Rhode Island\tConnecticut, Massachusetts, New York (water border)\n",
    "South Carolina\tGeorgia, North Carolina\n",
    "South Dakota\tIowa, Minnesota, Montana, Nebraska, North Dakota, Wyoming\n",
    "Tennessee\tAlabama, Arkansas, Georgia, Kentucky, Mississippi, Missouri, North Carolina, Virginia\n",
    "Texas\tArkansas, Louisiana, New Mexico, Oklahoma\n",
    "Utah\tArizona, Colorado, Idaho, Nevada, New Mexico, Wyoming\n",
    "Vermont\tMassachusetts, New Hampshire, New York\n",
    "Virginia\tKentucky, Maryland, North Carolina, Tennessee, West Virginia\n",
    "Washington\tIdaho, Oregon\n",
    "West Virginia\tKentucky, Maryland, Ohio, Pennsylvania, Virginia\n",
    "Wisconsin\tIllinois, Iowa, Michigan, Minnesota\n",
    "Wyoming\tColorado, Idaho, Montana, Nebraska, South Dakota, Utah\"\"\""
   ]
  },
  {
   "cell_type": "code",
   "execution_count": 62,
   "metadata": {
    "collapsed": true
   },
   "outputs": [],
   "source": [
    "def build_graph():\n",
    "    lines = states_text.split('\\n')\n",
    "    graph = {}\n",
    "    for line in lines:\n",
    "        state, bordering = line.split('\\t')\n",
    "        graph[state] = set(border for border in bordering.split(', ') if '(water border)' not in border)\n",
    "    return graph"
   ]
  },
  {
   "cell_type": "code",
   "execution_count": 66,
   "metadata": {},
   "outputs": [],
   "source": [
    "g = build_graph()"
   ]
  },
  {
   "cell_type": "code",
   "execution_count": 74,
   "metadata": {
    "collapsed": true
   },
   "outputs": [],
   "source": [
    "def dfs(start, g):\n",
    "    queue = [start]\n",
    "    visited = set()\n",
    "    \n",
    "    while queue:\n",
    "        state = queue.pop()\n",
    "        print('Visiting ' + state)\n",
    "        visited.add(state)\n",
    "        queue += g[state] - visited\n",
    "\n",
    "    return visited"
   ]
  },
  {
   "cell_type": "code",
   "execution_count": 75,
   "metadata": {},
   "outputs": [
    {
     "name": "stdout",
     "output_type": "stream",
     "text": [
      "Visiting California\n",
      "Visiting Arizona\n",
      "Visiting Utah\n",
      "Visiting Colorado\n",
      "Visiting Kansas\n",
      "Visiting Nebraska\n",
      "Visiting South Dakota\n",
      "Visiting Iowa\n",
      "Visiting Missouri\n",
      "Visiting Oklahoma\n",
      "Visiting Texas\n",
      "Visiting Louisiana\n",
      "Visiting Mississippi\n",
      "Visiting Tennessee\n",
      "Visiting Virginia\n",
      "Visiting West Virginia\n",
      "Visiting Kentucky\n",
      "Visiting Indiana\n",
      "Visiting Michigan\n",
      "Visiting Wisconsin\n",
      "Visiting Minnesota\n",
      "Visiting North Dakota\n",
      "Visiting Montana\n",
      "Visiting Idaho\n",
      "Visiting Nevada\n",
      "Visiting Oregon\n",
      "Visiting Washington\n",
      "Visiting Washington\n",
      "Visiting Oregon\n",
      "Visiting Wyoming\n",
      "Visiting Wyoming\n",
      "Visiting Illinois\n",
      "Visiting Illinois\n",
      "Visiting Ohio\n",
      "Visiting Pennsylvania\n",
      "Visiting New York\n",
      "Visiting Connecticut\n",
      "Visiting Massachusetts\n",
      "Visiting Rhode Island\n",
      "Visiting New Hampshire\n",
      "Visiting Maine\n",
      "Visiting Vermont\n",
      "Visiting Vermont\n",
      "Visiting Rhode Island\n",
      "Visiting Massachusetts\n",
      "Visiting New Jersey\n",
      "Visiting Delaware\n",
      "Visiting Maryland\n",
      "Visiting Vermont\n",
      "Visiting New Jersey\n",
      "Visiting Delaware\n",
      "Visiting Maryland\n",
      "Visiting Illinois\n",
      "Visiting Ohio\n",
      "Visiting Illinois\n",
      "Visiting Ohio\n",
      "Visiting Pennsylvania\n",
      "Visiting Maryland\n",
      "Visiting Ohio\n",
      "Visiting North Carolina\n",
      "Visiting South Carolina\n",
      "Visiting Georgia\n",
      "Visiting Alabama\n",
      "Visiting Florida\n",
      "Visiting Florida\n",
      "Visiting Georgia\n",
      "Visiting Kentucky\n",
      "Visiting Maryland\n",
      "Visiting Kentucky\n",
      "Visiting Alabama\n",
      "Visiting North Carolina\n",
      "Visiting Georgia\n",
      "Visiting Arkansas\n",
      "Visiting Arkansas\n",
      "Visiting Alabama\n",
      "Visiting Arkansas\n",
      "Visiting Arkansas\n",
      "Visiting New Mexico\n",
      "Visiting Arkansas\n",
      "Visiting New Mexico\n",
      "Visiting Tennessee\n",
      "Visiting Kentucky\n",
      "Visiting Illinois\n",
      "Visiting Arkansas\n",
      "Visiting Minnesota\n",
      "Visiting Wisconsin\n",
      "Visiting Illinois\n",
      "Visiting North Dakota\n",
      "Visiting Montana\n",
      "Visiting Minnesota\n",
      "Visiting Wyoming\n",
      "Visiting Iowa\n",
      "Visiting Missouri\n",
      "Visiting Wyoming\n",
      "Visiting Missouri\n",
      "Visiting Oklahoma\n",
      "Visiting Oklahoma\n",
      "Visiting New Mexico\n",
      "Visiting Nebraska\n",
      "Visiting Wyoming\n",
      "Visiting New Mexico\n",
      "Visiting Nevada\n",
      "Visiting Idaho\n",
      "Visiting Wyoming\n",
      "Visiting Colorado\n",
      "Visiting Nevada\n",
      "Visiting New Mexico\n",
      "Visiting Oregon\n",
      "Visiting Nevada\n"
     ]
    },
    {
     "data": {
      "text/plain": [
       "48"
      ]
     },
     "execution_count": 75,
     "metadata": {},
     "output_type": "execute_result"
    }
   ],
   "source": [
    "len(dfs('California', g))"
   ]
  },
  {
   "cell_type": "code",
   "execution_count": 76,
   "metadata": {
    "collapsed": true
   },
   "outputs": [],
   "source": [
    "def bfs(start, g):\n",
    "    queue = [start]\n",
    "    visited = set()\n",
    "    \n",
    "    while queue:\n",
    "        state = queue.pop(0)\n",
    "        print('Visiting ' + state)\n",
    "        visited.add(state)\n",
    "        queue += g[state] - visited\n",
    "\n",
    "    return visited"
   ]
  },
  {
   "cell_type": "code",
   "execution_count": 77,
   "metadata": {
    "collapsed": true
   },
   "outputs": [],
   "source": [
    "import queue"
   ]
  },
  {
   "cell_type": "code",
   "execution_count": 78,
   "metadata": {
    "collapsed": true
   },
   "outputs": [],
   "source": [
    "import networkx"
   ]
  },
  {
   "cell_type": "code",
   "execution_count": 81,
   "metadata": {},
   "outputs": [],
   "source": [
    "G = networkx.Graph(g)"
   ]
  },
  {
   "cell_type": "code",
   "execution_count": 84,
   "metadata": {},
   "outputs": [],
   "source": [
    "networkx.draw(G, with_labels=True)"
   ]
  },
  {
   "cell_type": "code",
   "execution_count": 85,
   "metadata": {},
   "outputs": [
    {
     "data": {
      "image/png": "[encoded data removed]",
      "text/plain": [
       "<matplotlib.figure.Figure at 0x10bc83898>"
      ]
     },
     "metadata": {},
     "output_type": "display_data"
    }
   ],
   "source": [
    "import matplotlib.pyplot as plt\n",
    "plt.show()"
   ]
  },
  {
   "cell_type": "code",
   "execution_count": 98,
   "metadata": {},
   "outputs": [
    {
     "data": {
      "text/plain": [
       "[('California', 'Arizona'),\n",
       " ('Arizona', 'New Mexico'),\n",
       " ('New Mexico', 'Colorado'),\n",
       " ('Colorado', 'Wyoming'),\n",
       " ('Wyoming', 'Idaho'),\n",
       " ('Idaho', 'Oregon'),\n",
       " ('Oregon', 'Nevada'),\n",
       " ('Nevada', 'Utah'),\n",
       " ('Oregon', 'Washington'),\n",
       " ('Idaho', 'Montana'),\n",
       " ('Montana', 'North Dakota'),\n",
       " ('North Dakota', 'Minnesota'),\n",
       " ('Minnesota', 'Iowa'),\n",
       " ('Iowa', 'Illinois'),\n",
       " ('Illinois', 'Wisconsin'),\n",
       " ('Wisconsin', 'Michigan'),\n",
       " ('Michigan', 'Indiana'),\n",
       " ('Indiana', 'Ohio'),\n",
       " ('Ohio', 'Kentucky'),\n",
       " ('Kentucky', 'West Virginia'),\n",
       " ('West Virginia', 'Maryland'),\n",
       " ('Maryland', 'Delaware'),\n",
       " ('Delaware', 'Pennsylvania'),\n",
       " ('Pennsylvania', 'New Jersey'),\n",
       " ('New Jersey', 'New York'),\n",
       " ('New York', 'Connecticut'),\n",
       " ('Connecticut', 'Rhode Island'),\n",
       " ('Rhode Island', 'Massachusetts'),\n",
       " ('Massachusetts', 'Vermont'),\n",
       " ('Vermont', 'New Hampshire'),\n",
       " ('New Hampshire', 'Maine'),\n",
       " ('Maryland', 'Virginia'),\n",
       " ('Virginia', 'North Carolina'),\n",
       " ('North Carolina', 'Georgia'),\n",
       " ('Georgia', 'Alabama'),\n",
       " ('Alabama', 'Florida'),\n",
       " ('Alabama', 'Mississippi'),\n",
       " ('Mississippi', 'Arkansas'),\n",
       " ('Arkansas', 'Tennessee'),\n",
       " ('Tennessee', 'Missouri'),\n",
       " ('Missouri', 'Kansas'),\n",
       " ('Kansas', 'Oklahoma'),\n",
       " ('Oklahoma', 'Texas'),\n",
       " ('Texas', 'Louisiana'),\n",
       " ('Kansas', 'Nebraska'),\n",
       " ('Nebraska', 'South Dakota'),\n",
       " ('Georgia', 'South Carolina')]"
      ]
     },
     "execution_count": 98,
     "metadata": {},
     "output_type": "execute_result"
    }
   ],
   "source": [
    "list(networkx.traversal.depth_first_search.dfs_edges(G, 'California'))"
   ]
  },
  {
   "cell_type": "code",
   "execution_count": 95,
   "metadata": {},
   "outputs": [
    {
     "data": {
      "text/plain": [
       "[('California', 'Arizona'),\n",
       " ('California', 'Nevada'),\n",
       " ('California', 'Oregon'),\n",
       " ('Arizona', 'New Mexico'),\n",
       " ('Arizona', 'Utah'),\n",
       " ('Arizona', 'Colorado'),\n",
       " ('Nevada', 'Idaho'),\n",
       " ('Oregon', 'Washington'),\n",
       " ('New Mexico', 'Texas'),\n",
       " ('New Mexico', 'Oklahoma'),\n",
       " ('Utah', 'Wyoming'),\n",
       " ('Colorado', 'Nebraska'),\n",
       " ('Colorado', 'Kansas'),\n",
       " ('Idaho', 'Montana'),\n",
       " ('Texas', 'Arkansas'),\n",
       " ('Texas', 'Louisiana'),\n",
       " ('Oklahoma', 'Missouri'),\n",
       " ('Wyoming', 'South Dakota'),\n",
       " ('Nebraska', 'Iowa'),\n",
       " ('Montana', 'North Dakota'),\n",
       " ('Arkansas', 'Mississippi'),\n",
       " ('Arkansas', 'Tennessee'),\n",
       " ('Missouri', 'Illinois'),\n",
       " ('Missouri', 'Kentucky'),\n",
       " ('South Dakota', 'Minnesota'),\n",
       " ('Iowa', 'Wisconsin'),\n",
       " ('Mississippi', 'Alabama'),\n",
       " ('Tennessee', 'Georgia'),\n",
       " ('Tennessee', 'North Carolina'),\n",
       " ('Tennessee', 'Virginia'),\n",
       " ('Illinois', 'Indiana'),\n",
       " ('Illinois', 'Michigan'),\n",
       " ('Kentucky', 'West Virginia'),\n",
       " ('Kentucky', 'Ohio'),\n",
       " ('Alabama', 'Florida'),\n",
       " ('Georgia', 'South Carolina'),\n",
       " ('Virginia', 'Maryland'),\n",
       " ('West Virginia', 'Pennsylvania'),\n",
       " ('Maryland', 'Delaware'),\n",
       " ('Pennsylvania', 'New Jersey'),\n",
       " ('Pennsylvania', 'New York'),\n",
       " ('New York', 'Connecticut'),\n",
       " ('New York', 'Massachusetts'),\n",
       " ('New York', 'Vermont'),\n",
       " ('Connecticut', 'Rhode Island'),\n",
       " ('Massachusetts', 'New Hampshire'),\n",
       " ('New Hampshire', 'Maine')]"
      ]
     },
     "execution_count": 95,
     "metadata": {},
     "output_type": "execute_result"
    }
   ],
   "source": [
    "list(Out[94])"
   ]
  },
  {
   "cell_type": "code",
   "execution_count": null,
   "metadata": {
    "collapsed": true
   },
   "outputs": [],
   "source": []
  }
 ],
 "metadata": {
  "kernelspec": {
   "display_name": "Python 3",
   "language": "python",
   "name": "python3"
  },
  "language_info": {
   "codemirror_mode": {
    "name": "ipython",
    "version": 3
   },
   "file_extension": ".py",
   "mimetype": "text/x-python",
   "name": "python",
   "nbconvert_exporter": "python",
   "pygments_lexer": "ipython3",
   "version": "3.6.3"
  }
 },
 "nbformat": 4,
 "nbformat_minor": 2
}
